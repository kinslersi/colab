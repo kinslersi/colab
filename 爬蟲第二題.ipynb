{
  "nbformat": 4,
  "nbformat_minor": 0,
  "metadata": {
    "colab": {
      "provenance": [],
      "authorship_tag": "ABX9TyNoLA51JN2nKMFzKB4tvFX1",
      "include_colab_link": true
    },
    "kernelspec": {
      "name": "python3",
      "display_name": "Python 3"
    },
    "language_info": {
      "name": "python"
    }
  },
  "cells": [
    {
      "cell_type": "markdown",
      "metadata": {
        "id": "view-in-github",
        "colab_type": "text"
      },
      "source": [
        "<a href=\"https://colab.research.google.com/github/kinslersi/colab/blob/main/%E7%88%AC%E8%9F%B2%E7%AC%AC%E4%BA%8C%E9%A1%8C.ipynb\" target=\"_parent\"><img src=\"https://colab.research.google.com/assets/colab-badge.svg\" alt=\"Open In Colab\"/></a>"
      ]
    },
    {
      "cell_type": "code",
      "execution_count": null,
      "metadata": {
        "id": "Tn5ffw-jMkdK"
      },
      "outputs": [],
      "source": [
        "import requests\n",
        "from bs4 import BeautifulSoup\n",
        "import pandas as pd"
      ]
    },
    {
      "cell_type": "code",
      "source": [
        "# 判斷單個字是否為數字\n",
        "def is_number(num):\n",
        "  try:\n",
        "    float(num)\n",
        "  except ValueError:\n",
        "    return False\n",
        "  return True"
      ],
      "metadata": {
        "id": "0TTUdFNtNB0X"
      },
      "execution_count": null,
      "outputs": []
    },
    {
      "cell_type": "code",
      "source": [
        "# 第一種表格樣式(大學),最後存進standard_one_list\n",
        "# table: 學校進去後大表 row: 每一筆資料 department: 科系 sentence: 學測檢定標準 / 篩選倍率\n",
        "def standard_one(url):        \n",
        "  re=requests.get(url)\n",
        "  soup=BeautifulSoup(re.text,\"html.parser\")\n",
        "  table=soup.find('table',class_=\"deps-table\")         \n",
        "  for row in table.find_all('tr')[2:]:\n",
        "    department=row.find(\"a\",class_=\"name-link\").text\n",
        "    sentence=row.text.split(\"、\")[-1]\n",
        "\n",
        "    # 判斷第3,4,5是否為數字當作切分依據   \n",
        "    # clear_sentence: 從sentence切分好的資料\n",
        "    if not is_number(sentence[2]):\n",
        "      if not is_number(sentence[3]):\n",
        "        clear_sentence=sentence[4:]\n",
        "      else:\n",
        "        if not is_number(sentence[4]):\n",
        "          clear_sentence=sentence[3:]\n",
        "        else:\n",
        "          clear_sentence=sentence[5:]\n",
        "    else:\n",
        "      clear_sentence=sentence[3:]\n",
        "\n",
        "    if is_number(clear_sentence[0]):\n",
        "      clear_sentence=clear_sentence[1:]\n",
        "    elif \"：\" in clear_sentence:\n",
        "      clear_sentence=clear_sentence.split(\"：\")[1]\n",
        "      if is_number(clear_sentence[3]):\n",
        "        clear_sentence=clear_sentence[4:]\n",
        "\n",
        "    # re1: 學測檢定標準 re2: 篩選倍率\n",
        "    if \" \" in clear_sentence:\n",
        "      re1=clear_sentence.split(\" \")[0]\n",
        "      re2=clear_sentence.split(\" \")[1]\n",
        "    elif \" (\" in clear_sentence:\n",
        "      num=clear_sentence.index(\" (\")\n",
        "      re1=\"\".join(clear_sentence[:num])\n",
        "      re2=\"\".join(clear_sentence[num:])\n",
        "    else:\n",
        "      re1=clear_sentence\n",
        "      re2=\"--\"\n",
        "    # 同學校裡每一筆處理完的資料都會放進standard_one_list\n",
        "    standard_one_list.append([department,re1,re2])  "
      ],
      "metadata": {
        "id": "oG9KH_BCNUAz"
      },
      "execution_count": null,
      "outputs": []
    },
    {
      "cell_type": "code",
      "source": [
        "# 第二種表格樣式(科大),最後存進standard_two_list\n",
        "# table: 學校進去後大表 row: 每一筆資料 department: 科系 clear_sentence: 學測檢定標準 / 篩選倍率\n",
        "def standard_two(url):\n",
        "  re=requests.get(url)\n",
        "  soup=BeautifulSoup(re.text,\"html.parser\")\n",
        "  table=soup.find('table',class_=\"deps-j-table\")     \n",
        "  for row in table.find_all('tr')[1:]:\n",
        "    deparment=row.find_all(\"a\")[1].text\n",
        "    clear_sentence=row.find_all('td')[4].text        \n",
        "    standard_two_list.append([deparment,clear_sentence])"
      ],
      "metadata": {
        "id": "a5u1dVnoNbKa"
      },
      "execution_count": null,
      "outputs": []
    },
    {
      "cell_type": "code",
      "source": [
        "# main.py\n",
        "base_path=\"https://university-tw.ldkrsi.men/caac/\"\n",
        "re=requests.get(base_path)\n",
        "soup=BeautifulSoup(re.text,\"html.parser\")"
      ],
      "metadata": {
        "id": "JmAXvcOQNdqg"
      },
      "execution_count": null,
      "outputs": []
    },
    {
      "cell_type": "code",
      "source": [
        "# 國立學校 part\n",
        "national_school=[]\n",
        "container_one=soup.find_all('section',class_=\"container\")[2]   # conainer_one: 國立學校清單 objs: 每一所學校\n",
        "objs=container_one.find_all('a')\n",
        "for obj in objs:                                             \n",
        "    whole_path=base_path+obj['href']                           # whole path: 得到每一所學校網址\n",
        "    national_school_name=obj.text.split(\" \")[1]\n",
        "    national_school.append(national_school_name)\n",
        "    print(national_school_name+\"...\")\n",
        "\n",
        "    # 兩種表格方式(國立私立都存在)，將使用表格一(stanard_one)的存在standard_one_list,使用表格二(stanard_two)的存在stardard_two_list\n",
        "    standard_one_list=[]      # 每一個公私立學校一開始儲存的地方都會歸零\n",
        "    standard_two_list=[]\n",
        "    try:          # 匯出國立各大學csv\n",
        "      standard_one(whole_path)\n",
        "      df3=pd.DataFrame(standard_one_list,columns=['科系',\"學測檢定標準\",\"篩選倍率\"])\n",
        "      df3.to_csv(f'{national_school_name}.csv',sep=\",\",index=False,header=True)\n",
        "    except AttributeError:   # 匯出國立各科大csv\n",
        "      standard_two(whole_path)\n",
        "      df4=pd.DataFrame(standard_two_list,columns=['科系','採計科目'])\n",
        "      df4.to_csv(f'{national_school_name}.csv',sep=\",\",index=False,header=True)"
      ],
      "metadata": {
        "colab": {
          "base_uri": "https://localhost:8080/"
        },
        "id": "Oa2J2kb3NoId",
        "outputId": "48046633-eb69-467c-c738-f9127796372c"
      },
      "execution_count": null,
      "outputs": [
        {
          "output_type": "stream",
          "name": "stdout",
          "text": [
            "國立臺灣大學...\n",
            "國立臺灣師範大學...\n",
            "國立中興大學...\n",
            "國立成功大學...\n",
            "國立政治大學...\n",
            "國立清華大學...\n",
            "國立陽明交通大學...\n",
            "國立中央大學...\n",
            "國立臺灣海洋大學...\n",
            "國立高雄師範大學...\n",
            "國立彰化師範大學...\n",
            "國立中山大學...\n",
            "國立臺北藝術大學...\n",
            "國立臺中教育大學...\n",
            "國立臺北教育大學...\n",
            "國立臺南大學...\n",
            "國立東華大學...\n",
            "臺北市立大學...\n",
            "國立屏東大學...\n",
            "國立臺東大學...\n",
            "國立體育大學...\n",
            "國立中正大學...\n",
            "國立臺灣藝術大學...\n",
            "國立暨南國際大學...\n",
            "國立臺灣體育運動大學...\n",
            "國立臺南藝術大學...\n",
            "國立臺北大學...\n",
            "國立嘉義大學...\n",
            "國立高雄大學...\n",
            "國立宜蘭大學...\n",
            "國立聯合大學...\n",
            "國立金門大學...\n",
            "國立臺灣科技大學...\n",
            "國立雲林科技大學...\n",
            "國立屏東科技大學...\n",
            "國立臺北科技大學...\n",
            "國立高雄科技大學...\n",
            "國立虎尾科技大學...\n",
            "國立澎湖科技大學...\n",
            "國立勤益科技大學...\n",
            "國立臺北護理健康大學...\n",
            "國立高雄餐旅大學...\n",
            "國立臺中科技大學...\n",
            "國立臺北商業大學...\n"
          ]
        }
      ]
    },
    {
      "cell_type": "code",
      "source": [
        "# 私立學校 part\n",
        "private_school=[]\n",
        "container_two=soup.find_all('section',class_=\"container\")[3]         # conainer_two: 私立學校清單 objs: 每一所學校\n",
        "objs=container_two.find_all('li')\n",
        "for obj in objs:\n",
        "    whole_path=base_path+obj.find('a')['href']                      # whole path: 得到每一所學校網址\n",
        "    private_school_name=obj.text.split(\" \")[1]\n",
        "    private_school_name=''.join([i for i in private_school_name if not i.isdigit()])\n",
        "    private_school.append(private_school_name)\n",
        "    print(private_school_name+\"...\")\n",
        "\n",
        "    # 兩種表格方式(國立私立都存在)，將使用表格一(stanard_one)的存在standard_one_list,使用表格二(stanard_two)的存在stardard_two_list\n",
        "    standard_one_list=[]          # 每一個公私立學校一開始儲存的地方都會歸零\n",
        "    standard_two_list=[]\n",
        "    try:        # 匯出私立各大學csv\n",
        "      standard_one(whole_path)\n",
        "      df5=pd.DataFrame(standard_one_list,columns=['科系',\"學測檢定標準\",\"篩選倍率\"])\n",
        "      df5.to_csv(f'{private_school_name}.csv',sep=\",\",index=False,header=True)\n",
        "    except AttributeError:     # 匯出私立各科大csv\n",
        "      standard_two(whole_path)\n",
        "      df6=pd.DataFrame(standard_two_list,columns=['科系','採計科目'])\n",
        "      df6.to_csv(f'{private_school_name}.csv',sep=\",\",index=False,header=True)"
      ],
      "metadata": {
        "colab": {
          "base_uri": "https://localhost:8080/"
        },
        "id": "5saSDQfqNs7Y",
        "outputId": "cd2035ac-b11b-4b37-e322-8125364c90b9"
      },
      "execution_count": null,
      "outputs": [
        {
          "output_type": "stream",
          "name": "stdout",
          "text": [
            "東吳大學...\n",
            "高雄醫學大學...\n",
            "中原大學...\n",
            "東海大學...\n",
            "中國醫藥大學...\n",
            "淡江大學...\n",
            "逢甲大學...\n",
            "中國文化大學...\n",
            "靜宜大學...\n",
            "大同大學...\n",
            "輔仁大學...\n",
            "中山醫學大學...\n",
            "長庚大學...\n",
            "元智大學...\n",
            "大葉大學...\n",
            "中華大學...\n",
            "華梵大學...\n",
            "義守大學...\n",
            "銘傳大學...\n",
            "世新大學...\n",
            "實踐大學...\n",
            "長榮大學...\n",
            "南華大學...\n",
            "玄奘大學...\n",
            "真理大學...\n",
            "慈濟大學...\n",
            "臺北醫學大學...\n",
            "開南大學...\n",
            "康寧大學...\n",
            "中信金融管理學院...\n",
            "佛光大學...\n",
            "明道大學...\n",
            "亞洲大學...\n",
            "馬偕醫學院...\n",
            "臺北基督學院...\n",
            "朝陽科技大學...\n",
            "南臺科技大學...\n",
            "崑山科技大學...\n",
            "嘉南藥理大學...\n",
            "樹德科技大學...\n",
            "龍華科技大學...\n",
            "輔英科技大學...\n",
            "明新科技大學...\n",
            "弘光科技大學...\n",
            "健行科技大學...\n",
            "正修科技大學...\n",
            "萬能科技大學...\n",
            "建國科技大學...\n",
            "明志科技大學...\n",
            "高苑科技大學...\n",
            "大仁科技大學...\n",
            "聖約翰科技大學...\n",
            "嶺東科技大學...\n",
            "中國科技大學...\n",
            "中臺科技大學...\n",
            "台南應用科技大學...\n",
            "遠東科技大學...\n",
            "元培醫事科技大學...\n",
            "景文科技大學...\n",
            "中華醫事科技大學...\n",
            "東南科技大學...\n",
            "德明財經科技大學...\n",
            "南開科技大學...\n",
            "中華科技大學...\n",
            "僑光科技大學...\n",
            "育達科技大學...\n",
            "美和科技大學...\n",
            "吳鳳科技大學...\n",
            "環球科技大學...\n",
            "修平科技大學...\n",
            "長庚科技大學...\n",
            "敏實科技大學...\n",
            "臺北城市科技大學...\n",
            "醒吾科技大學...\n",
            "文藻外語大學...\n",
            "華夏科技大學...\n",
            "慈濟科技大學...\n",
            "致理科技大學...\n",
            "宏國德霖科技大學...\n",
            "東方設計大學...\n",
            "崇右影藝科技大學...\n",
            "台北海洋科技大學...\n",
            "亞東科技大學...\n",
            "大漢技術學院...\n",
            "南亞技術學院...\n",
            "黎明技術學院...\n",
            "經國管理暨健康學院...\n"
          ]
        }
      ]
    },
    {
      "cell_type": "code",
      "source": [
        "# 輸出所有公私立學校清單\n",
        "df1=pd.DataFrame({'school':national_school},index=[i for i in range(1,len(national_school)+1)])\n",
        "df2=pd.DataFrame({'school':private_school},index=[i for i in range(1,len(private_school)+1)])\n",
        "df=pd.concat([df1,df2],keys=['國立學校','私立學校'])\n",
        "print(df)\n",
        "df.to_csv('學校清單.csv',sep=\",\")   \n",
        "print('done')"
      ],
      "metadata": {
        "colab": {
          "base_uri": "https://localhost:8080/"
        },
        "id": "FgHwltc0N0La",
        "outputId": "cec619d9-d666-4a94-fdb9-239b9c749741"
      },
      "execution_count": null,
      "outputs": [
        {
          "output_type": "stream",
          "name": "stdout",
          "text": [
            "            school\n",
            "國立學校 1      國立臺灣大學\n",
            "     2    國立臺灣師範大學\n",
            "     3      國立中興大學\n",
            "     4      國立成功大學\n",
            "     5      國立政治大學\n",
            "...            ...\n",
            "私立學校 83     亞東科技大學\n",
            "     84     大漢技術學院\n",
            "     85     南亞技術學院\n",
            "     86     黎明技術學院\n",
            "     87  經國管理暨健康學院\n",
            "\n",
            "[131 rows x 1 columns]\n",
            "done\n"
          ]
        }
      ]
    }
  ]
}