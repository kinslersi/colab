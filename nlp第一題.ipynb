{
  "nbformat": 4,
  "nbformat_minor": 0,
  "metadata": {
    "colab": {
      "provenance": [],
      "authorship_tag": "ABX9TyNA1hMwitqt1+VxnXcsQSdx",
      "include_colab_link": true
    },
    "kernelspec": {
      "name": "python3",
      "display_name": "Python 3"
    },
    "language_info": {
      "name": "python"
    }
  },
  "cells": [
    {
      "cell_type": "markdown",
      "metadata": {
        "id": "view-in-github",
        "colab_type": "text"
      },
      "source": [
        "<a href=\"https://colab.research.google.com/github/kinslersi/colab/blob/main/nlp%E7%AC%AC%E4%B8%80%E9%A1%8C.ipynb\" target=\"_parent\"><img src=\"https://colab.research.google.com/assets/colab-badge.svg\" alt=\"Open In Colab\"/></a>"
      ]
    },
    {
      "cell_type": "code",
      "execution_count": 11,
      "metadata": {
        "colab": {
          "base_uri": "https://localhost:8080/",
          "height": 130
        },
        "id": "wZCkSMy4vlf0",
        "outputId": "17471ddc-207c-4274-b82a-bb243346dc97"
      },
      "outputs": [
        {
          "output_type": "error",
          "ename": "SyntaxError",
          "evalue": "ignored",
          "traceback": [
            "\u001b[0;36m  File \u001b[0;32m\"<ipython-input-11-ef78584b23c2>\"\u001b[0;36m, line \u001b[0;32m2\u001b[0m\n\u001b[0;31m    pip install jieba\u001b[0m\n\u001b[0m        ^\u001b[0m\n\u001b[0;31mSyntaxError\u001b[0m\u001b[0;31m:\u001b[0m invalid syntax\n"
          ]
        }
      ],
      "source": [
        "# 下載繁體版 jieba\n",
        "pip install git+https://github.com/APCLab/jieba-tw.git"
      ]
    },
    {
      "cell_type": "code",
      "source": [
        "import jieba\n",
        "import pandas as pd\n",
        "\n",
        "# setting \n",
        "jieba.case_sensitive = True\n",
        "\n",
        "\n",
        "data=pd.read_excel(\"/content/NLP_dataset.xlsx\")\n",
        "df=pd.DataFrame(data)['發文標題']\n",
        "df\n",
        "\n",
        "# 以每一row為一次，切好放進restore_list存成dataframe輸出\n",
        "restore_list=[]\n",
        "for i in df:\n",
        "  row=str(i)\n",
        "  words=jieba.cut(row)\n",
        "  restore_list.append([\"/\".join(words)])\n",
        "result=pd.DataFrame(restore_list)\n",
        "result.to_csv(\"nlp_one.csv\",sep=\",\")\n",
        "print(result)"
      ],
      "metadata": {
        "id": "c-p_7sXAvz0l",
        "colab": {
          "base_uri": "https://localhost:8080/"
        },
        "outputId": "f2339570-587c-45e7-8890-c8bebd322fa4"
      },
      "execution_count": 13,
      "outputs": [
        {
          "output_type": "stream",
          "name": "stdout",
          "text": [
            "                                                      0\n",
            "0               【/逢甲/大學/】/推薦/的/機車行/有/哪些/？/（/上大學/機車/托運/）\n",
            "1     【/崑/山/科大/】/上大學/穿/短裙/有腳/毛/跟/腋毛/好/尷尬/，/有/沒/有/推薦/...\n",
            "2                                      什麼/是/輔系/、/雙/主修/？\n",
            "3                                             要/參加/系隊/嗎\n",
            "4                 【/中正/大學/】/雖然/地處/偏僻/ /卻/好像/該/有/的/都/有/？\n",
            "...                                                 ...\n",
            "9556             如何/不/被/教授/討厭/ /甚至/是/與/教授/打好關/係/-/經驗/分享\n",
            "9557                                      與/大學/朋友/合租/問題\n",
            "9558                                 上大學/還會/送/朋友/禮物/嗎/?\n",
            "9559                                 【/高雄/科技/大學/】/請假/程序\n",
            "9560                                       宜蘭人/幫幫/我/!/!\n",
            "\n",
            "[9561 rows x 1 columns]\n"
          ]
        }
      ]
    }
  ]
}