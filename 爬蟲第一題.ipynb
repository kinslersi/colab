{
  "nbformat": 4,
  "nbformat_minor": 0,
  "metadata": {
    "colab": {
      "provenance": [],
      "authorship_tag": "ABX9TyOAa6hVJFZnzvlw9WYwYy2z",
      "include_colab_link": true
    },
    "kernelspec": {
      "name": "python3",
      "display_name": "Python 3"
    },
    "language_info": {
      "name": "python"
    }
  },
  "cells": [
    {
      "cell_type": "markdown",
      "metadata": {
        "id": "view-in-github",
        "colab_type": "text"
      },
      "source": [
        "<a href=\"https://colab.research.google.com/github/kinslersi/colab/blob/main/%E7%88%AC%E8%9F%B2%E7%AC%AC%E4%B8%80%E9%A1%8C.ipynb\" target=\"_parent\"><img src=\"https://colab.research.google.com/assets/colab-badge.svg\" alt=\"Open In Colab\"/></a>"
      ]
    },
    {
      "cell_type": "code",
      "execution_count": null,
      "metadata": {
        "colab": {
          "base_uri": "https://localhost:8080/"
        },
        "id": "cai9vC8kO6RU",
        "outputId": "267e2e10-2e6f-4391-c2bb-3ae10c01c8d5"
      },
      "outputs": [
        {
          "output_type": "stream",
          "name": "stdout",
          "text": [
            "Looking in indexes: https://pypi.org/simple, https://us-python.pkg.dev/colab-wheels/public/simple/\n",
            "Requirement already satisfied: selenium in /usr/local/lib/python3.8/dist-packages (4.8.0)\n",
            "Requirement already satisfied: trio-websocket~=0.9 in /usr/local/lib/python3.8/dist-packages (from selenium) (0.9.2)\n",
            "Requirement already satisfied: trio~=0.17 in /usr/local/lib/python3.8/dist-packages (from selenium) (0.22.0)\n",
            "Requirement already satisfied: certifi>=2021.10.8 in /usr/local/lib/python3.8/dist-packages (from selenium) (2022.12.7)\n",
            "Requirement already satisfied: urllib3[socks]~=1.26 in /usr/local/lib/python3.8/dist-packages (from selenium) (1.26.14)\n",
            "Requirement already satisfied: sniffio in /usr/local/lib/python3.8/dist-packages (from trio~=0.17->selenium) (1.3.0)\n",
            "Requirement already satisfied: outcome in /usr/local/lib/python3.8/dist-packages (from trio~=0.17->selenium) (1.2.0)\n",
            "Requirement already satisfied: sortedcontainers in /usr/local/lib/python3.8/dist-packages (from trio~=0.17->selenium) (2.4.0)\n",
            "Requirement already satisfied: idna in /usr/local/lib/python3.8/dist-packages (from trio~=0.17->selenium) (2.10)\n",
            "Requirement already satisfied: async-generator>=1.9 in /usr/local/lib/python3.8/dist-packages (from trio~=0.17->selenium) (1.10)\n",
            "Requirement already satisfied: exceptiongroup>=1.0.0rc9 in /usr/local/lib/python3.8/dist-packages (from trio~=0.17->selenium) (1.1.0)\n",
            "Requirement already satisfied: attrs>=19.2.0 in /usr/local/lib/python3.8/dist-packages (from trio~=0.17->selenium) (22.2.0)\n",
            "Requirement already satisfied: wsproto>=0.14 in /usr/local/lib/python3.8/dist-packages (from trio-websocket~=0.9->selenium) (1.2.0)\n",
            "Requirement already satisfied: PySocks!=1.5.7,<2.0,>=1.5.6 in /usr/local/lib/python3.8/dist-packages (from urllib3[socks]~=1.26->selenium) (1.7.1)\n",
            "Requirement already satisfied: h11<1,>=0.9.0 in /usr/local/lib/python3.8/dist-packages (from wsproto>=0.14->trio-websocket~=0.9->selenium) (0.14.0)\n"
          ]
        }
      ],
      "source": [
        "pip install selenium"
      ]
    },
    {
      "cell_type": "code",
      "source": [
        "from google.colab import drive\n",
        "drive.mount('/content/drive')"
      ],
      "metadata": {
        "id": "MrqzOp2dun7T"
      },
      "execution_count": null,
      "outputs": []
    },
    {
      "cell_type": "code",
      "source": [
        "%%shell\n",
        "# Ubuntu no longer distributes chromium-browser outside of snap\n",
        "#\n",
        "# Proposed solution: https://askubuntu.com/questions/1204571/how-to-install-chromium-without-snap\n",
        "\n",
        "# Add debian buster\n",
        "cat > /etc/apt/sources.list.d/debian.list <<'EOF'\n",
        "deb [arch=amd64 signed-by=/usr/share/keyrings/debian-buster.gpg] http://deb.debian.org/debian buster main\n",
        "deb [arch=amd64 signed-by=/usr/share/keyrings/debian-buster-updates.gpg] http://deb.debian.org/debian buster-updates main\n",
        "deb [arch=amd64 signed-by=/usr/share/keyrings/debian-security-buster.gpg] http://deb.debian.org/debian-security buster/updates main\n",
        "EOF\n",
        "\n",
        "# Add keys\n",
        "apt-key adv --keyserver keyserver.ubuntu.com --recv-keys DCC9EFBF77E11517\n",
        "apt-key adv --keyserver keyserver.ubuntu.com --recv-keys 648ACFD622F3D138\n",
        "apt-key adv --keyserver keyserver.ubuntu.com --recv-keys 112695A0E562B32A\n",
        "\n",
        "apt-key export 77E11517 | gpg --dearmour -o /usr/share/keyrings/debian-buster.gpg\n",
        "apt-key export 22F3D138 | gpg --dearmour -o /usr/share/keyrings/debian-buste..."
      ],
      "metadata": {
        "colab": {
          "base_uri": "https://localhost:8080/",
          "height": 1000
        },
        "id": "6WJHJkh7R-K4",
        "outputId": "cd0b4c3b-1ec0-41b9-d348-bf53e25644b5"
      },
      "execution_count": null,
      "outputs": [
        {
          "output_type": "stream",
          "name": "stdout",
          "text": [
            "Executing: /tmp/apt-key-gpghome.svYhtM5sa8/gpg.1.sh --keyserver keyserver.ubuntu.com --recv-keys DCC9EFBF77E11517\n",
            "gpg: key DCC9EFBF77E11517: \"Debian Stable Release Key (10/buster) <debian-release@lists.debian.org>\" not changed\n",
            "gpg: Total number processed: 1\n",
            "gpg:              unchanged: 1\n",
            "Executing: /tmp/apt-key-gpghome.R5KiC5ygBO/gpg.1.sh --keyserver keyserver.ubuntu.com --recv-keys 648ACFD622F3D138\n",
            "gpg: key DC30D7C23CBBABEE: \"Debian Archive Automatic Signing Key (10/buster) <ftpmaster@debian.org>\" not changed\n",
            "gpg: Total number processed: 1\n",
            "gpg:              unchanged: 1\n",
            "Executing: /tmp/apt-key-gpghome.x91yC4OEGu/gpg.1.sh --keyserver keyserver.ubuntu.com --recv-keys 112695A0E562B32A\n",
            "gpg: key 4DFAB270CAA96DFA: \"Debian Security Archive Automatic Signing Key (10/buster) <ftpmaster@debian.org>\" not changed\n",
            "gpg: Total number processed: 1\n",
            "gpg:              unchanged: 1\n",
            "gpg: cannot open '/dev/tty': No such device or address\n",
            "Warning: apt-key output should not be parsed (stdout is not a terminal)\n",
            "gpg: [stdout]: write error: Broken pipe\n",
            "gpg: filter_flush failed on close: Broken pipe\n",
            "gpg: cannot open '/dev/tty': No such device or address\n",
            "Warning: apt-key output should not be parsed (stdout is not a terminal)\n",
            "gpg: [stdout]: write error: Broken pipe\n",
            "gpg: filter_flush failed on close: Broken pipe\n"
          ]
        },
        {
          "output_type": "error",
          "ename": "CalledProcessError",
          "evalue": "ignored",
          "traceback": [
            "\u001b[0;31m---------------------------------------------------------------------------\u001b[0m",
            "\u001b[0;31mCalledProcessError\u001b[0m                        Traceback (most recent call last)",
            "\u001b[0;32m<ipython-input-19-666fd324b0b9>\u001b[0m in \u001b[0;36m<module>\u001b[0;34m\u001b[0m\n\u001b[0;32m----> 1\u001b[0;31m \u001b[0mget_ipython\u001b[0m\u001b[0;34m(\u001b[0m\u001b[0;34m)\u001b[0m\u001b[0;34m.\u001b[0m\u001b[0mrun_cell_magic\u001b[0m\u001b[0;34m(\u001b[0m\u001b[0;34m'shell'\u001b[0m\u001b[0;34m,\u001b[0m \u001b[0;34m''\u001b[0m\u001b[0;34m,\u001b[0m \u001b[0;34m\"# Ubuntu no longer distributes chromium-browser outside of snap\\n#\\n# Proposed solution: https://askubuntu.com/questions/1204571/how-to-install-chromium-without-snap\\n\\n# Add debian buster\\ncat > /etc/apt/sources.list.d/debian.list <<'EOF'\\ndeb [arch=amd64 signed-by=/usr/share/keyrings/debian-buster.gpg] http://deb.debian.org/debian buster main\\ndeb [arch=amd64 signed-by=/usr/share/keyrings/debian-buster-updates.gpg] http://deb.debian.org/debian buster-updates main\\ndeb [arch=amd64 signed-by=/usr/share/keyrings/debian-security-buster.gpg] http://deb.debian.org/debian-security buster/updates main\\nEOF\\n\\n# Add keys\\napt-key adv --keyserver keyserver.ubuntu.com --recv-keys DCC9EFBF77E11517\\napt-key adv --keyserver keyserver.ubuntu.com --recv-keys 648ACFD622F3D138\\napt-key adv --keyserver keyserver.ubuntu.com --recv-keys 112695A0E562B32A\\n\\napt-key export 77E11517 | gpg --dearmour -o /usr/share/keyrings/debian-buster.gpg\\napt-key export 22F3D138 | gpg --dearmour -o /usr/share/keyrings/debian-buste...\\n\"\u001b[0m\u001b[0;34m)\u001b[0m\u001b[0;34m\u001b[0m\u001b[0;34m\u001b[0m\u001b[0m\n\u001b[0m",
            "\u001b[0;32m/usr/local/lib/python3.8/dist-packages/IPython/core/interactiveshell.py\u001b[0m in \u001b[0;36mrun_cell_magic\u001b[0;34m(self, magic_name, line, cell)\u001b[0m\n\u001b[1;32m   2357\u001b[0m             \u001b[0;32mwith\u001b[0m \u001b[0mself\u001b[0m\u001b[0;34m.\u001b[0m\u001b[0mbuiltin_trap\u001b[0m\u001b[0;34m:\u001b[0m\u001b[0;34m\u001b[0m\u001b[0;34m\u001b[0m\u001b[0m\n\u001b[1;32m   2358\u001b[0m                 \u001b[0margs\u001b[0m \u001b[0;34m=\u001b[0m \u001b[0;34m(\u001b[0m\u001b[0mmagic_arg_s\u001b[0m\u001b[0;34m,\u001b[0m \u001b[0mcell\u001b[0m\u001b[0;34m)\u001b[0m\u001b[0;34m\u001b[0m\u001b[0;34m\u001b[0m\u001b[0m\n\u001b[0;32m-> 2359\u001b[0;31m                 \u001b[0mresult\u001b[0m \u001b[0;34m=\u001b[0m \u001b[0mfn\u001b[0m\u001b[0;34m(\u001b[0m\u001b[0;34m*\u001b[0m\u001b[0margs\u001b[0m\u001b[0;34m,\u001b[0m \u001b[0;34m**\u001b[0m\u001b[0mkwargs\u001b[0m\u001b[0;34m)\u001b[0m\u001b[0;34m\u001b[0m\u001b[0;34m\u001b[0m\u001b[0m\n\u001b[0m\u001b[1;32m   2360\u001b[0m             \u001b[0;32mreturn\u001b[0m \u001b[0mresult\u001b[0m\u001b[0;34m\u001b[0m\u001b[0;34m\u001b[0m\u001b[0m\n\u001b[1;32m   2361\u001b[0m \u001b[0;34m\u001b[0m\u001b[0m\n",
            "\u001b[0;32m/usr/local/lib/python3.8/dist-packages/google/colab/_system_commands.py\u001b[0m in \u001b[0;36m_shell_cell_magic\u001b[0;34m(args, cmd)\u001b[0m\n\u001b[1;32m    107\u001b[0m   \u001b[0mresult\u001b[0m \u001b[0;34m=\u001b[0m \u001b[0m_run_command\u001b[0m\u001b[0;34m(\u001b[0m\u001b[0mcmd\u001b[0m\u001b[0;34m,\u001b[0m \u001b[0mclear_streamed_output\u001b[0m\u001b[0;34m=\u001b[0m\u001b[0;32mFalse\u001b[0m\u001b[0;34m)\u001b[0m\u001b[0;34m\u001b[0m\u001b[0;34m\u001b[0m\u001b[0m\n\u001b[1;32m    108\u001b[0m   \u001b[0;32mif\u001b[0m \u001b[0;32mnot\u001b[0m \u001b[0mparsed_args\u001b[0m\u001b[0;34m.\u001b[0m\u001b[0mignore_errors\u001b[0m\u001b[0;34m:\u001b[0m\u001b[0;34m\u001b[0m\u001b[0;34m\u001b[0m\u001b[0m\n\u001b[0;32m--> 109\u001b[0;31m     \u001b[0mresult\u001b[0m\u001b[0;34m.\u001b[0m\u001b[0mcheck_returncode\u001b[0m\u001b[0;34m(\u001b[0m\u001b[0;34m)\u001b[0m\u001b[0;34m\u001b[0m\u001b[0;34m\u001b[0m\u001b[0m\n\u001b[0m\u001b[1;32m    110\u001b[0m   \u001b[0;32mreturn\u001b[0m \u001b[0mresult\u001b[0m\u001b[0;34m\u001b[0m\u001b[0;34m\u001b[0m\u001b[0m\n\u001b[1;32m    111\u001b[0m \u001b[0;34m\u001b[0m\u001b[0m\n",
            "\u001b[0;32m/usr/local/lib/python3.8/dist-packages/google/colab/_system_commands.py\u001b[0m in \u001b[0;36mcheck_returncode\u001b[0;34m(self)\u001b[0m\n\u001b[1;32m    132\u001b[0m   \u001b[0;32mdef\u001b[0m \u001b[0mcheck_returncode\u001b[0m\u001b[0;34m(\u001b[0m\u001b[0mself\u001b[0m\u001b[0;34m)\u001b[0m\u001b[0;34m:\u001b[0m\u001b[0;34m\u001b[0m\u001b[0;34m\u001b[0m\u001b[0m\n\u001b[1;32m    133\u001b[0m     \u001b[0;32mif\u001b[0m \u001b[0mself\u001b[0m\u001b[0;34m.\u001b[0m\u001b[0mreturncode\u001b[0m\u001b[0;34m:\u001b[0m\u001b[0;34m\u001b[0m\u001b[0;34m\u001b[0m\u001b[0m\n\u001b[0;32m--> 134\u001b[0;31m       raise subprocess.CalledProcessError(\n\u001b[0m\u001b[1;32m    135\u001b[0m           returncode=self.returncode, cmd=self.args, output=self.output)\n\u001b[1;32m    136\u001b[0m \u001b[0;34m\u001b[0m\u001b[0m\n",
            "\u001b[0;31mCalledProcessError\u001b[0m: Command '# Ubuntu no longer distributes chromium-browser outside of snap\n#\n# Proposed solution: https://askubuntu.com/questions/1204571/how-to-install-chromium-without-snap\n\n# Add debian buster\ncat > /etc/apt/sources.list.d/debian.list <<'EOF'\ndeb [arch=amd64 signed-by=/usr/share/keyrings/debian-buster.gpg] http://deb.debian.org/debian buster main\ndeb [arch=amd64 signed-by=/usr/share/keyrings/debian-buster-updates.gpg] http://deb.debian.org/debian buster-updates main\ndeb [arch=amd64 signed-by=/usr/share/keyrings/debian-security-buster.gpg] http://deb.debian.org/debian-security buster/updates main\nEOF\n\n# Add keys\napt-key adv --keyserver keyserver.ubuntu.com --recv-keys DCC9EFBF77E11517\napt-key adv --keyserver keyserver.ubuntu.com --recv-keys 648ACFD622F3D138\napt-key adv --keyserver keyserver.ubuntu.com --recv-keys 112695A0E562B32A\n\napt-key export 77E11517 | gpg --dearmour -o /usr/share/keyrings/debian-buster.gpg\napt-key export 22F3D138 | gpg --dearmour -o /usr/share/keyrings/debian-buste...\n' returned non-zero exit status 2."
          ]
        }
      ]
    },
    {
      "cell_type": "code",
      "source": [
        "from selenium import webdriver\n",
        "from selenium.webdriver.common.by import By\n",
        "from selenium.webdriver.support.select import Select\n",
        "import time\n",
        "from selenium.webdriver.support.ui import Select\n",
        "from selenium.common.exceptions import NoSuchElementException\n",
        "from selenium.webdriver.support.wait import WebDriverWait\n",
        "from selenium.webdriver.support import expected_conditions as EC\n",
        "import pandas as pd\n",
        "from selenium.webdriver.chrome.options import Options\n",
        "\n",
        "user_agent = \"Mozilla/5.0 (Macintosh; Intel Mac OS X 10_13_6) AppleWebKit/605.1.15 (KHTML, like Gecko) Version/12.0.3 Safari/605.1.15\"\n",
        "chrome_options = webdriver.ChromeOptions()\n",
        "chrome_options.add_argument('--headless')\n",
        "chrome_options.add_argument('--no-sandbox')\n",
        "chrome_options.add_argument('--disable-dev-shm-usage')\n",
        "chrome_options.add_argument('--user-agent=%s' % user_agent)\n",
        "driver = webdriver.Chrome('chromedriver',options=chrome_options)"
      ],
      "metadata": {
        "id": "PJ3FLz7pSXKl"
      },
      "execution_count": null,
      "outputs": []
    },
    {
      "cell_type": "code",
      "source": [
        "# 生成各校資料裡每一row ID\n",
        "def produce_line_id(first_num,second_num):\n",
        "    if second_num<10:\n",
        "        update_line=str(0)+str(0)+str(second_num)\n",
        "    elif second_num<100:\n",
        "        update_line=str(0)+str(second_num)\n",
        "    else:\n",
        "        update_line=str(second_num)\n",
        "    line_id=\"allDeptTr_\"+str(first_num)+str(update_line)\n",
        "    return line_id"
      ],
      "metadata": {
        "id": "4GELfuO7Twh7"
      },
      "execution_count": null,
      "outputs": []
    },
    {
      "cell_type": "code",
      "source": [
        "# 分割處理part\n",
        "def processing(school_name,line):\n",
        "    print('getting data from: ',school_name)\n",
        "    while True:\n",
        "        line+=1\n",
        "        try:    \n",
        "            row=driver.find_element(By.ID,produce_line_id(school_code,line)).text\n",
        "        # 到底了沒資料\n",
        "        except NoSuchElementException:   \n",
        "            break\n",
        "        else:\n",
        "            clean_row=row.split('-')[2].split(\" \")\n",
        "            # num0: 科系\n",
        "            num0=clean_row[1]\n",
        "            # num1: 類別\n",
        "            num1=clean_row[-5]\n",
        "            # num2: 一般考生 \n",
        "            num2=int(clean_row[-4])\n",
        "            # num3: 低收或中低考生\n",
        "            num3=int(clean_row[-3])\n",
        "            # 原住民考生\n",
        "            num4=int(clean_row[-2])\n",
        "            # num5: 離島考生\n",
        "            num5=int(clean_row[-1])\n",
        "\n",
        "            # 各校各類考生錄取人數\n",
        "            school_sepdata.append([num0+f'({num1})',num2,num3,num4,num5])\n",
        "            # 各校系的招生類別\n",
        "            school_mergedata.append([num1,num2+num3+num4+num5])        \n",
        "    return school_sepdata,school_mergedata"
      ],
      "metadata": {
        "id": "HoI13YBuTzqH"
      },
      "execution_count": null,
      "outputs": []
    },
    {
      "cell_type": "code",
      "source": [
        "# main.py\n",
        "website_path=input(\"網址： \")\n",
        "data=driver.get(website_path)\n",
        "time.sleep(3)\n",
        "# 找尋左上角區位block\n",
        "driver.find_element(By.XPATH,'//*[@id=\"areaSelect\"]')    \n",
        "block=Select(driver.find_element(By.NAME,'areaSelect'))\n",
        "# block選不限制\n",
        "block.select_by_index(1)                                 \n",
        "time.sleep(1)  \n",
        "# 網頁loading\n",
        "WebDriverWait(driver,10).until(                            \n",
        "        EC.presence_of_element_located((By.ID,\"resultListDiv\"))).text.split(\"-\")[1]\n",
        "\n",
        "# 每間學校selenium\n",
        "for i in range(1,127):\n",
        "    # 各校系的招生類別\n",
        "    school_mergedata=[]            \n",
        "    # 各校各類考生錄取人數 \n",
        "    school_sepdata=[]              \n",
        "    # 學校右方細節loading\n",
        "    school_code,school_name=WebDriverWait(driver,10).until(        \n",
        "        EC.presence_of_element_located((By.XPATH,f\"/html/body/table/tbody/tr/td[1]/div/div[3]/div/div[2]/div[{i}]\"))).text.split(\"-\")\n",
        "    school_code=school_code.strip()\n",
        "    driver.find_element(By.XPATH,f\"/html/body/table/tbody/tr/td[1]/div/div[3]/div/div[2]/div[{i}]\").click()\n",
        "\n",
        "    line1=0\n",
        "    line2=400\n",
        "    school_sepdata,school_mergedata=processing(school_name,line1)\n",
        "    # 檢查是否存在東西不然需要換另一個參數帶入processing\n",
        "    if school_sepdata==[] and school_mergedata==[]:\n",
        "        school_sepdata,school_mergedata=processing(school_name,line2)\n",
        "    # 該校各類別所有學生(一般,低收或中低收,原住民,離島)\n",
        "    df1=pd.DataFrame(school_sepdata,columns=[\"校系\",'一般考生','低收或中低考生','原住民考生','離島考生'])\n",
        "    # df2_sum各類考生錄取人數加總\n",
        "    df2=pd.DataFrame(school_mergedata,columns=[\"招生類別\",\"錄取人數\"])\n",
        "    df2_sum=df2.groupby('招生類別',as_index=False).sum()    \n",
        "\n",
        "    # 輸出csv檔\n",
        "    df1.to_csv(f'{school_name}_招生類別.csv',sep=\",\",index=True,header=True)\n",
        "    df2_sum.to_csv(f'{school_name}_錄取人數.csv',sep=\",\",index=False,header=True)\n",
        "driver.close()\n",
        "print(\"done\")"
      ],
      "metadata": {
        "colab": {
          "base_uri": "https://localhost:8080/"
        },
        "id": "2T-zDansT2o8",
        "outputId": "73972e70-d87b-4cff-c0b4-386aca557ec3"
      },
      "execution_count": null,
      "outputs": [
        {
          "output_type": "stream",
          "name": "stdout",
          "text": [
            "網址： https://www.jctv.ntut.edu.tw/downloads/112/apply/ugcdrom/index.html\n",
            "getting data from:   國立臺灣科技大學\n",
            "getting data from:   國立雲林科技大學\n",
            "getting data from:   國立屏東科技大學\n",
            "getting data from:   國立臺北科技大學\n",
            "getting data from:   國立高雄科技大學\n",
            "getting data from:   國立虎尾科技大學\n",
            "getting data from:   國立澎湖科技大學\n",
            "getting data from:   國立勤益科技大學\n",
            "getting data from:   國立臺北護理健康大學\n",
            "getting data from:   國立高雄餐旅大學\n",
            "getting data from:   國立臺中科技大學\n",
            "getting data from:   國立臺北商業大學\n",
            "getting data from:   朝陽科技大學\n",
            "getting data from:   南臺科技大學\n",
            "getting data from:   崑山科技大學\n",
            "getting data from:   嘉藥學校財團法人嘉南藥理大學\n",
            "getting data from:   樹德科技大學\n",
            "getting data from:   龍華科技大學\n",
            "getting data from:   輔英科技大學\n",
            "getting data from:   明新科技大學\n",
            "getting data from:   弘光科技大學\n",
            "getting data from:   健行科技大學\n",
            "getting data from:   正修科技大學\n",
            "getting data from:   萬能科技大學\n",
            "getting data from:   建國科技大學\n",
            "getting data from:   明志科技大學\n",
            "getting data from:   高苑科技大學\n",
            "getting data from:   大仁科技大學\n",
            "getting data from:   聖約翰科技大學\n",
            "getting data from:   嶺東科技大學\n",
            "getting data from:   中國科技大學\n",
            "getting data from:   中臺科技大學\n",
            "getting data from:   台南應用科技大學\n",
            "getting data from:   遠東科技大學\n",
            "getting data from:   元培醫事科技大學\n",
            "getting data from:   景文科技大學\n",
            "getting data from:   中華醫事科技大學\n",
            "getting data from:   東南科技大學\n",
            "getting data from:   德明財經科技大學\n",
            "getting data from:   南開科技大學\n",
            "getting data from:   中華科技大學\n",
            "getting data from:   僑光科技大學\n",
            "getting data from:   育達科技大學\n",
            "getting data from:   美和科技大學\n",
            "getting data from:   吳鳳科技大學\n",
            "getting data from:   環球科技大學\n",
            "getting data from:   修平科技大學\n",
            "getting data from:   長庚學校財團法人長庚科技大學\n",
            "getting data from:   敏實科技大學\n",
            "getting data from:   臺北城市科技大學\n",
            "getting data from:   醒吾科技大學\n",
            "getting data from:   文藻外語大學\n",
            "getting data from:   華夏科技大學\n",
            "getting data from:   慈濟學校財團法人慈濟科技大學\n",
            "getting data from:   致理科技大學\n",
            "getting data from:   宏國德霖科技大學\n",
            "getting data from:   東方設計大學\n",
            "getting data from:   崇右影藝科技大學\n",
            "getting data from:   台北海洋科技大學\n",
            "getting data from:   亞東科技大學\n",
            "getting data from:   南亞技術學院\n",
            "getting data from:   黎明技術學院\n",
            "getting data from:   經國管理暨健康學院\n",
            "getting data from:   國立臺南護理專科學校\n",
            "getting data from:   國立臺南護理專科學校\n",
            "getting data from:   國立臺東專科學校\n",
            "getting data from:   國立臺東專科學校\n",
            "getting data from:   國立政治大學\n",
            "getting data from:   國立清華大學\n",
            "getting data from:   國立臺灣大學\n",
            "getting data from:   國立臺灣師範大學\n",
            "getting data from:   國立成功大學\n",
            "getting data from:   國立中興大學\n",
            "getting data from:   國立陽明交通大學\n",
            "getting data from:   國立中央大學\n",
            "getting data from:   國立中山大學\n",
            "getting data from:   國立臺灣海洋大學\n",
            "getting data from:   國立中正大學\n",
            "getting data from:   國立高雄師範大學\n",
            "getting data from:   國立彰化師範大學\n",
            "getting data from:   國立臺北大學\n",
            "getting data from:   國立嘉義大學\n",
            "getting data from:   國立高雄大學\n",
            "getting data from:   國立東華大學\n",
            "getting data from:   國立暨南國際大學\n",
            "getting data from:   國立臺北藝術大學\n",
            "getting data from:   國立臺灣藝術大學\n",
            "getting data from:   國立臺東大學\n",
            "getting data from:   國立宜蘭大學\n",
            "getting data from:   國立聯合大學\n",
            "getting data from:   國立臺南藝術大學\n",
            "getting data from:   國立臺南大學\n",
            "getting data from:   國立臺北教育大學\n",
            "getting data from:   國立臺中教育大學\n",
            "getting data from:   國立體育大學\n",
            "getting data from:   國立金門大學\n",
            "getting data from:   國立臺灣體育運動大學\n",
            "getting data from:   臺北市立大學\n",
            "getting data from:   國立屏東大學\n",
            "getting data from:   東海大學\n",
            "getting data from:   輔仁大學\n",
            "getting data from:   東吳大學\n",
            "getting data from:   中原大學\n",
            "getting data from:   淡江大學\n",
            "getting data from:   中國文化大學\n",
            "getting data from:   逢甲大學\n",
            "getting data from:   靜宜大學\n",
            "getting data from:   長庚大學\n",
            "getting data from:   元智大學\n",
            "getting data from:   中華大學\n",
            "getting data from:   大葉大學\n",
            "getting data from:   義守大學\n",
            "getting data from:   世新大學\n",
            "getting data from:   銘傳大學\n",
            "getting data from:   實踐大學\n",
            "getting data from:   高雄醫學大學\n",
            "getting data from:   南華大學\n",
            "getting data from:   真理大學\n",
            "getting data from:   大同大學\n",
            "getting data from:   慈濟學校財團法人慈濟大學\n",
            "getting data from:   臺北醫學大學\n",
            "getting data from:   長榮大學\n",
            "getting data from:   中國醫藥大學\n",
            "getting data from:   玄奘大學\n",
            "getting data from:   亞洲大學\n",
            "getting data from:   開南大學\n",
            "getting data from:   佛光大學\n",
            "getting data from:   明道學校財團法人明道大學\n",
            "done\n"
          ]
        }
      ]
    }
  ]
}